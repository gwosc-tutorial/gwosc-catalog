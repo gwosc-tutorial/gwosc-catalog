{
 "cells": [
  {
   "cell_type": "markdown",
   "id": "e7f9a516",
   "metadata": {},
   "source": [
    "This notebook illustrates how to use `schema.py` to construct a JSON catalog file from a set of parameter estimation samples and other metadata."
   ]
  },
  {
   "cell_type": "code",
   "execution_count": null,
   "id": "fa3f23df-90c6-438e-941d-48e76119aa46",
   "metadata": {},
   "outputs": [],
   "source": [
    "import numpy as np\n",
    "import pandas as pd\n",
    "from ccverify import schema"
   ]
  },
  {
   "cell_type": "code",
   "execution_count": null,
   "id": "f1fbc2eb",
   "metadata": {},
   "outputs": [],
   "source": [
    "def make_dummy_parameter_set(pe_set_name, is_preferred=False):\n",
    "    \"\"\"Return schema.ParameterSet with dummy parameter set.\"\"\"\n",
    "    link = schema.Link(\n",
    "        url='https://example.com',\n",
    "        content_type='posterior_samples',\n",
    "        description='string')\n",
    "\n",
    "    samples = pd.DataFrame(\n",
    "        {'mass_1_source': np.random.normal(10, 1, 100),\n",
    "         'luminosity_distance': np.random.normal(130, 10, 100)})\n",
    "\n",
    "    parameter_set = schema.ParameterSet.from_samples(\n",
    "        samples=samples,\n",
    "        pe_set_name=pe_set_name,\n",
    "        data_url='https://zenodo.org/',\n",
    "        waveform_family='IMRPhenomPv3HM',\n",
    "        links=[link],\n",
    "        is_preferred=is_preferred\n",
    "        )\n",
    "    return parameter_set\n",
    "\n",
    "\n",
    "def make_dummy_event():\n",
    "    \"\"\"Return ``schema.Event`` with dummy event.\"\"\"\n",
    "    search_statistics_1 = [schema.ParameterValue('pastro', decimal_places=2, median=0.98),\n",
    "                           schema.ParameterValue('far', decimal_places=2, median=1.23, unit='1/y'),\n",
    "                           schema.ParameterValue('network_snr', decimal_places=2, median=9.87)]\n",
    "\n",
    "    search_statistics_2 = [schema.ParameterValue('pastro', decimal_places=2, median=0.89),\n",
    "                           schema.ParameterValue('far', decimal_places=2, median=1.0, unit='1/y'),\n",
    "                           schema.ParameterValue('network_snr', decimal_places=2, median=9.87)]\n",
    "\n",
    "    search_results = [schema.SearchResult(pipeline_name='pipeline1',\n",
    "                                          search_statistics=search_statistics_1),\n",
    "                      schema.SearchResult(pipeline_name='pipeline2',\n",
    "                                          search_statistics=search_statistics_2)\n",
    "                     ]\n",
    "    pe_sets = [make_dummy_parameter_set('pe_set_1', is_preferred=True),\n",
    "               make_dummy_parameter_set('pe_set_2', is_preferred=False)]\n",
    "    return schema.Event(event_name='GW123456_123456',\n",
    "                        gps=123456789.0,\n",
    "                        detectors=['H1', 'L1', 'V1'],\n",
    "                        search=search_results,\n",
    "                        pe_sets=pe_sets,\n",
    "                        event_description='string')\n",
    "\n",
    "\n",
    "def make_dummy_catalog():\n",
    "    \"\"\"Return ``schema.Catalog`` with a dummy catalog.\"\"\"\n",
    "    events = [make_dummy_event()]\n",
    "    return schema.Catalog(catalog_name='catalog name',\n",
    "                          release_date='2023-12-31',\n",
    "                          catalog_description='catalog description',\n",
    "                          doi='https://doi.org/12345/',\n",
    "                          events=events)"
   ]
  },
  {
   "cell_type": "code",
   "execution_count": null,
   "id": "f3e93581",
   "metadata": {},
   "outputs": [],
   "source": [
    "catalog = make_dummy_catalog()"
   ]
  },
  {
   "cell_type": "code",
   "execution_count": null,
   "id": "fef6a8b4",
   "metadata": {},
   "outputs": [],
   "source": [
    "catalog.to_json('dummy_catalog.json')"
   ]
  },
  {
   "cell_type": "code",
   "execution_count": null,
   "id": "38e2b27d",
   "metadata": {},
   "outputs": [],
   "source": [
    "!ccverify dummy_catalog.json"
   ]
  }
 ],
 "metadata": {
  "kernelspec": {
   "display_name": "Python 3 (ipykernel)",
   "language": "python",
   "name": "python3"
  },
  "language_info": {
   "codemirror_mode": {
    "name": "ipython",
    "version": 3
   },
   "file_extension": ".py",
   "mimetype": "text/x-python",
   "name": "python",
   "nbconvert_exporter": "python",
   "pygments_lexer": "ipython3",
   "version": "3.12.4"
  }
 },
 "nbformat": 4,
 "nbformat_minor": 5
}
